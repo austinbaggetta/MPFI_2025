{
 "cells": [
  {
   "cell_type": "code",
   "execution_count": 1,
   "metadata": {},
   "outputs": [],
   "source": [
    "import os\n",
    "from os.path import join as pjoin\n",
    "\n",
    "from utilities import open_minian"
   ]
  },
  {
   "cell_type": "code",
   "execution_count": 3,
   "metadata": {},
   "outputs": [],
   "source": [
    "## Settings\n",
    "mouse = 'maddie'\n",
    "dpath = '../intermediate/minian_results'\n",
    "output_path = '../intermediate/minian_output'\n",
    "data_types = ['C']"
   ]
  },
  {
   "cell_type": "code",
   "execution_count": 4,
   "metadata": {},
   "outputs": [],
   "source": [
    "## Loop through data types of interest\n",
    "mpath = pjoin(dpath, mouse)\n",
    "date = os.listdir(mpath)[0]\n",
    "date_path = pjoin(mpath, date)\n",
    "\n",
    "for timestamp in os.listdir(date_path):\n",
    "    minian_path = pjoin(date_path, f'{timestamp}/minian')\n",
    "    for data_type in data_types:\n",
    "        res = open_minian(minian_path)[data_type]\n",
    "        save_path = pjoin(output_path, f'{mouse}/{date}/{timestamp}')\n",
    "\n",
    "        if not os.path.exists(save_path):\n",
    "            os.makedirs(save_path)\n",
    "\n",
    "        res.to_netcdf(pjoin(save_path, f'{data_type}.nc'))"
   ]
  }
 ],
 "metadata": {
  "language_info": {
   "name": "python"
  }
 },
 "nbformat": 4,
 "nbformat_minor": 2
}
