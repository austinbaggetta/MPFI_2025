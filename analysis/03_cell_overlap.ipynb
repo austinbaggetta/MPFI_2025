{
 "cells": [
  {
   "cell_type": "code",
   "execution_count": 1,
   "metadata": {},
   "outputs": [],
   "source": [
    "import os\n",
    "import pandas as pd\n",
    "import xarray as xr\n",
    "import plotly.graph_objects as go\n",
    "\n",
    "from utilities import fig_template"
   ]
  },
  {
   "cell_type": "code",
   "execution_count": 2,
   "metadata": {},
   "outputs": [],
   "source": [
    "## Settings\n",
    "crossreg_path = '../intermediate/cross_reg'\n",
    "fig_path = '../figs'\n",
    "centroid_dist = 10"
   ]
  },
  {
   "cell_type": "markdown",
   "metadata": {},
   "source": [
    "### Plot spatial footprints for one session from one mouse."
   ]
  },
  {
   "cell_type": "code",
   "execution_count": 3,
   "metadata": {},
   "outputs": [],
   "source": [
    "mouse = 'maddie'\n",
    "mappings = pd.read_pickle(os.path.join(crossreg_path, f'{mouse}/mappings_{centroid_dist}.pkl'))\n",
    "mappings_resolved = pd.read_pickle(os.path.join(crossreg_path, f'{mouse}/mappings_meta_{centroid_dist}.pkl'))"
   ]
  }
 ],
 "metadata": {
  "language_info": {
   "name": "python"
  }
 },
 "nbformat": 4,
 "nbformat_minor": 2
}
